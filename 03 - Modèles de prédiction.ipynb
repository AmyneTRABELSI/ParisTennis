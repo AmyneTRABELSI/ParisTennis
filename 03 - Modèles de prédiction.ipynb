{
 "cells": [
  {
   "cell_type": "markdown",
   "metadata": {},
   "source": [
    "_L'objectif de ce notebook est de créer des modéles de prédiction en se basant sur les données d'ATP._"
   ]
  },
  {
   "cell_type": "code",
   "execution_count": 60,
   "metadata": {},
   "outputs": [],
   "source": [
    "#chargement de librairies\n",
    "import pandas as pd\n",
    "import matplotlib.pyplot as plt\n",
    "import seaborn as sns\n",
    "low_memory=False\n",
    "from pylab import rcParams\n",
    "import numpy as np\n",
    "import seaborn as sns\n",
    "import pickle\n",
    "import matplotlib.pyplot as plt\n",
    "from sklearn.utils.multiclass import unique_labels\n"
   ]
  },
  {
   "cell_type": "code",
   "execution_count": 12,
   "metadata": {},
   "outputs": [],
   "source": [
    "#modification des paramètres\n",
    "rcParams['figure.figsize'] = 40, 20\n",
    "SMALL_SIZE = 15\n",
    "MEDIUM_SIZE = 25\n",
    "BIGGER_SIZE = 35\n",
    "HUGE_SIZE=60\n",
    "plt.rc('font', size=SMALL_SIZE)         \n",
    "plt.rc('axes', titlesize=SMALL_SIZE)     \n",
    "plt.rc('axes', labelsize=MEDIUM_SIZE)    \n",
    "plt.rc('xtick', labelsize=MEDIUM_SIZE)    \n",
    "plt.rc('ytick', labelsize=MEDIUM_SIZE)    \n",
    "plt.rc('legend', fontsize=BIGGER_SIZE)     \n",
    "plt.rc('figure', titlesize=BIGGER_SIZE)  \n"
   ]
  },
  {
   "cell_type": "markdown",
   "metadata": {},
   "source": [
    "# Défintion des fonctions"
   ]
  },
  {
   "cell_type": "code",
   "execution_count": 66,
   "metadata": {},
   "outputs": [],
   "source": [
    "def plot_confusion_matrix(y_true, y_pred, classes,\n",
    "                          normalize=False,\n",
    "                          title=None,\n",
    "                          cmap=plt.cm.Blues):\n",
    "    \"\"\"\n",
    "    This function prints and plots the confusion matrix.\n",
    "    Normalization can be applied by setting `normalize=True`.\n",
    "    \"\"\"\n",
    "    if not title:\n",
    "        if normalize:\n",
    "            title = 'Normalized confusion matrix'\n",
    "        else:\n",
    "            title = 'Confusion matrix, without normalization'\n",
    "\n",
    "    # Compute confusion matrix\n",
    "    cm = confusion_matrix(y_true, y_pred)\n",
    "#     # Only use the labels that appear in the data\n",
    "#     classes = classes[unique_labels(y_true, y_pred)]\n",
    "    if normalize:\n",
    "        cm = cm.astype('float') / cm.sum(axis=1)[:, np.newaxis]\n",
    "        print(\"Normalized confusion matrix\")\n",
    "    else:\n",
    "        print('Confusion matrix, without normalization')\n",
    "\n",
    "    print(cm)\n",
    "\n",
    "    fig, ax = plt.subplots()\n",
    "    im = ax.imshow(cm, interpolation='nearest', cmap=cmap)\n",
    "    ax.figure.colorbar(im, ax=ax)\n",
    "    # We want to show all ticks...\n",
    "    ax.set(xticks=np.arange(cm.shape[1]),\n",
    "           yticks=np.arange(cm.shape[0]),\n",
    "           # ... and label them with the respective list entries\n",
    "           xticklabels=classes, yticklabels=classes,\n",
    "           title=title,\n",
    "           ylabel='True label',\n",
    "           xlabel='Predicted label')\n",
    "\n",
    "    # Rotate the tick labels and set their alignment.\n",
    "    plt.setp(ax.get_xticklabels(), rotation=45, ha=\"right\",\n",
    "             rotation_mode=\"anchor\")\n",
    "\n",
    "    # Loop over data dimensions and create text annotations.\n",
    "    fmt = '.2f' if normalize else 'd'\n",
    "    thresh = cm.max() / 2.\n",
    "    for i in range(cm.shape[0]):\n",
    "        for j in range(cm.shape[1]):\n",
    "            ax.text(j, i, format(cm[i, j], fmt),\n",
    "                    ha=\"center\", va=\"center\",\n",
    "                    color=\"white\" if cm[i, j] > thresh else \"black\")\n",
    "    fig.tight_layout()\n",
    "    return ax\n"
   ]
  },
  {
   "cell_type": "code",
   "execution_count": 29,
   "metadata": {},
   "outputs": [],
   "source": [
    "def CreateLags(data, MeterName, Lag):\n",
    "    OwnLag=list(range(1,Lag+1))\n",
    "    #set output for model\n",
    "    Y = data[MeterName]\n",
    "    X=data.drop(MeterName,axis=1)\n",
    "\n",
    "\n",
    "    # is there a relevant autocorrelation for the signal to be predicted?\n",
    "    if (len(OwnLag) > 0): # is own lags are to be considered\n",
    "        Xauto = Y # copy of Y to use for shifting\n",
    "        for lag in OwnLag:\n",
    "            if lag == OwnLag[0]: # first lag in vector\n",
    "                dataShift = pd.DataFrame(Xauto.shift(periods = OwnLag[0]).fillna(method='bfill')) # shift with the first lag to be considered\n",
    "                dataShift.columns=[dataShift.columns[0] +str(lag) +' lag']\n",
    "            else:\n",
    "                dataShiftExtra=pd.DataFrame(Xauto.shift(lag).fillna(method='bfill'))\n",
    "                dataShiftExtra.columns=[dataShiftExtra.columns[0] +str(lag) +' lag']\n",
    "                dataShift = pd.concat([dataShift, dataShiftExtra], axis = 1) # concatenate to existing vector\n",
    "                \n",
    "        X = pd.concat([X,dataShift],axis=1)       \n",
    "    return (X.iloc [Lag:-Lag,], Y.iloc [Lag:-Lag,])[0]"
   ]
  },
  {
   "cell_type": "markdown",
   "metadata": {},
   "source": [
    "# Chargement des données"
   ]
  },
  {
   "cell_type": "code",
   "execution_count": 14,
   "metadata": {},
   "outputs": [],
   "source": [
    "df_apt=pd.read_csv('ATP.csv',sep=',',decimal='.',low_memory=False)"
   ]
  },
  {
   "cell_type": "code",
   "execution_count": 15,
   "metadata": {},
   "outputs": [],
   "source": [
    "df_apt['tourney_date']=pd.to_datetime(df_apt['tourney_date'],format='%Y%m%d',errors='coerce')"
   ]
  },
  {
   "cell_type": "code",
   "execution_count": 16,
   "metadata": {},
   "outputs": [],
   "source": [
    "df_apt.index=df_apt['tourney_id']+df_apt['match_num']"
   ]
  },
  {
   "cell_type": "code",
   "execution_count": 17,
   "metadata": {},
   "outputs": [
    {
     "name": "stdout",
     "output_type": "stream",
     "text": [
      "nombre de observations:163966 ; nombre de variables (features): 49\n"
     ]
    }
   ],
   "source": [
    "print('nombre de observations:'+str(df_apt.shape[0])+ ' ; nombre de variables (features): '+str(df_apt.shape[1]))"
   ]
  },
  {
   "cell_type": "markdown",
   "metadata": {},
   "source": [
    "# Analyse métier tennistique"
   ]
  },
  {
   "cell_type": "markdown",
   "metadata": {},
   "source": [
    "_Pour commencer, j'ai éssayé de commprendre le métier en lisant les bonnes pratiques de tennis des passionnées et des experts de paris tennistique._\n",
    "Afin de comprendre la partie métier, je me suis basé sur les sites suivants:\n",
    "\n",
    "*https://www.omnisport.fr/parier-sur-le-tennis.html\n",
    "\n",
    "*https://www.mediapronos.com/debuter/bien-parier-sur-le-tennis/\n",
    "\n",
    "*https://www.pariez-gagnant.com/parier-sur-le-tennis/"
   ]
  },
  {
   "cell_type": "markdown",
   "metadata": {},
   "source": [
    "Pour résumer, en se basant sur ces sites, pour bien parier sur le tennis nous devons nous baser sur :\n",
    "\n",
    "*L’intérêt du tournoi POUR LE JOUEUR (chaque joueur a des ambitions différentes)\n",
    "\n",
    "*L’état de santé du joueur (retour de blessure/pépin au match précédent)\n",
    "\n",
    "*Le niveau moyen du joueur (dans un mauvais jour peut-il s’en sortir?)\n",
    "\n",
    "*La confiance et le niveau actuel du joueur (une série de victoires/de défaites peut changer un joueur)\n",
    "\n",
    "*Les schémas de jeux à utiliser pour parvenir à la victoire\n",
    "\n",
    "*L’écart de niveau entre les 2 joueurs\n",
    "\n",
    "*La gestion des moments importants"
   ]
  },
  {
   "cell_type": "markdown",
   "metadata": {},
   "source": [
    "De plus, en se basant sur ces sites, pour mettre toutes les chances de notre côté, on doit optimiser nos paris en ne misant que sur les membres du Top 3, c’est-à-dire Novak Djokovic, Roger Federer et Rafael Nadal."
   ]
  },
  {
   "cell_type": "markdown",
   "metadata": {},
   "source": [
    "# Approche choisie"
   ]
  },
  {
   "cell_type": "markdown",
   "metadata": {},
   "source": [
    "Pour ce faire, je vais implémenter un modèle de classification (ML) pour un membre (Roger Federer) du Top 3, en se basant sur approche historique (lags) pour prendre en considération l'état des joueurs tout en utilisant les variables explicatives pertinents ciblées dans la phase exploratoire."
   ]
  },
  {
   "cell_type": "markdown",
   "metadata": {},
   "source": [
    "## Selection ,traitement et transformation des données"
   ]
  },
  {
   "cell_type": "code",
   "execution_count": 18,
   "metadata": {},
   "outputs": [],
   "source": [
    "df_apt_Player_winner=df_apt[(df_apt.winner_name=='Roger Federer')].copy()\n",
    "df_apt_Player_winner['Target']=1\n",
    "df_apt_Player_loser=df_apt[(df_apt.loser_name=='Roger Federer')].copy()\n",
    "df_apt_Player_loser['Target']=0"
   ]
  },
  {
   "cell_type": "code",
   "execution_count": 19,
   "metadata": {},
   "outputs": [],
   "source": [
    "df_apt_Player_winner.columns=['tourney_id', 'tourney_name', 'surface', 'draw_size', 'tourney_level',\n",
    "       'tourney_date', 'match_num', 'targeted_player_id', 'targeted_player_seed', 'targeted_player_entry',\n",
    "       'targeted_player_name', 'targeted_player_hand', 'targeted_player_ht', 'targeted_player_ioc', 'targeted_player_age',\n",
    "       'targeted_player_rank', 'targeted_player_rank_points', 'other_player_id', 'other_player_seed',\n",
    "       'other_player_entry', 'other_player_name', 'other_player_hand', 'other_player_ht', 'other_player_ioc',\n",
    "       'other_player_age', 'other_player_rank', 'other_player_rank_points', 'score', 'best_of',\n",
    "       'round', 'minutes', 't_ace', 't_df', 't_svpt', 't_1stIn', 't_1stWon',\n",
    "       't_2ndWon', 't_SvGms', 't_bpSaved', 't_bpFaced', 'O_ace', 'O_df',\n",
    "       'O_svpt', 'O_1stIn', 'O_1stWon', 'O_2ndWon', 'O_SvGms', 'O_bpSaved',\n",
    "       'O_bpFaced','Target']"
   ]
  },
  {
   "cell_type": "code",
   "execution_count": 20,
   "metadata": {},
   "outputs": [],
   "source": [
    "df_apt_Player_loser.columns=['tourney_id', 'tourney_name', 'surface', 'draw_size', 'tourney_level',\n",
    "       'tourney_date', 'match_num', 'other_player_id', 'other_player_seed', 'other_player_entry',\n",
    "       'other_player_name', 'other_player_hand', 'other_player_ht', 'other_player_ioc', 'other_player_age',\n",
    "       'other_player_rank', 'other_player_rank_points', 'targeted_player_id', 'targeted_player_seed',\n",
    "       'targeted_player_entry', 'targeted_player_name', 'targeted_player_hand', 'targeted_player_ht', 'targeted_player_ioc',\n",
    "       'targeted_player_age', 'targeted_player_rank', 'targeted_player_rank_points', 'score', 'best_of',\n",
    "       'round', 'minutes', 'O_ace', 'O_df', 'O_svpt', 'O_1stIn', 'O_1stWon',\n",
    "       'O_2ndWon', 'O_SvGms', 'O_bpSaved', 'O_bpFaced', 't_ace', 't_df',\n",
    "       't_svpt', 't_1stIn', 't_1stWon', 't_2ndWon', 't_SvGms', 't_bpSaved',\n",
    "       't_bpFaced','Target']"
   ]
  },
  {
   "cell_type": "code",
   "execution_count": 21,
   "metadata": {},
   "outputs": [],
   "source": [
    "df_apt_Player=pd.concat([df_apt_Player_winner,df_apt_Player_loser],axis=0,sort=True)"
   ]
  },
  {
   "cell_type": "code",
   "execution_count": 26,
   "metadata": {},
   "outputs": [],
   "source": [
    "all_selected_features=['surface','draw_size','tourney_level','tourney_date',\n",
    "                   'other_player_age','other_player_name','targeted_player_ht','other_player_ht','O_ace','t_ace',\n",
    "                   'minutes', 'O_ace', 'O_df', 'O_svpt', 'O_1stIn', 'O_1stWon',\n",
    "                    'O_2ndWon', 'O_SvGms', 'O_bpSaved', 'O_bpFaced', 't_ace', 't_df','t_svpt',\n",
    "                   't_1stIn', 't_1stWon', 't_2ndWon', 't_SvGms', 't_bpSaved','t_bpFaced','other_player_rank',\n",
    "                   'targeted_player_rank','other_player_rank_points','targeted_player_rank_points','round']"
   ]
  },
  {
   "cell_type": "code",
   "execution_count": 27,
   "metadata": {},
   "outputs": [],
   "source": [
    "none_lag_features=[ 'surface', 'draw_size', 'tourney_level','tourney_date',\n",
    "       'match_num', 'round',\n",
    "       'other_player_name', 'other_player_hand', 'other_player_ht', 'other_player_ioc', 'other_player_age']"
   ]
  },
  {
   "cell_type": "code",
   "execution_count": 28,
   "metadata": {},
   "outputs": [],
   "source": [
    "lag_features=list(set(all_selected_features)-set(none_lag_features))"
   ]
  },
  {
   "cell_type": "code",
   "execution_count": 30,
   "metadata": {},
   "outputs": [],
   "source": [
    "df_final_part_1=df_apt_Player[none_lag_features].copy()"
   ]
  },
  {
   "cell_type": "code",
   "execution_count": 31,
   "metadata": {},
   "outputs": [],
   "source": [
    "df_final_part_2=pd.DataFrame()"
   ]
  },
  {
   "cell_type": "code",
   "execution_count": 32,
   "metadata": {},
   "outputs": [
    {
     "data": {
      "text/plain": [
       "['targeted_player_rank',\n",
       " 't_svpt',\n",
       " 'targeted_player_rank_points',\n",
       " 'O_1stIn',\n",
       " 'other_player_rank_points',\n",
       " 't_1stWon',\n",
       " 'O_SvGms',\n",
       " 't_bpSaved',\n",
       " 'O_ace',\n",
       " 'targeted_player_ht',\n",
       " 'O_bpSaved',\n",
       " 't_SvGms',\n",
       " 't_1stIn',\n",
       " 't_df',\n",
       " 't_ace',\n",
       " 't_2ndWon',\n",
       " 'minutes',\n",
       " 'O_1stWon',\n",
       " 'other_player_rank',\n",
       " 'O_2ndWon',\n",
       " 't_bpFaced',\n",
       " 'O_bpFaced',\n",
       " 'O_svpt',\n",
       " 'O_df']"
      ]
     },
     "execution_count": 32,
     "metadata": {},
     "output_type": "execute_result"
    }
   ],
   "source": [
    "lag_features"
   ]
  },
  {
   "cell_type": "code",
   "execution_count": 33,
   "metadata": {
    "scrolled": false
   },
   "outputs": [],
   "source": [
    "for feature in lag_features+['Target']:\n",
    "    df_final_part_2=pd.concat([df_final_part_2,pd.DataFrame(CreateLags(df_apt_Player[[feature]],feature,4))],axis=1)"
   ]
  },
  {
   "cell_type": "code",
   "execution_count": 34,
   "metadata": {},
   "outputs": [
    {
     "data": {
      "text/html": [
       "<div>\n",
       "<style scoped>\n",
       "    .dataframe tbody tr th:only-of-type {\n",
       "        vertical-align: middle;\n",
       "    }\n",
       "\n",
       "    .dataframe tbody tr th {\n",
       "        vertical-align: top;\n",
       "    }\n",
       "\n",
       "    .dataframe thead th {\n",
       "        text-align: right;\n",
       "    }\n",
       "</style>\n",
       "<table border=\"1\" class=\"dataframe\">\n",
       "  <thead>\n",
       "    <tr style=\"text-align: right;\">\n",
       "      <th></th>\n",
       "      <th>surface</th>\n",
       "      <th>draw_size</th>\n",
       "      <th>tourney_level</th>\n",
       "      <th>tourney_date</th>\n",
       "      <th>match_num</th>\n",
       "      <th>round</th>\n",
       "      <th>other_player_name</th>\n",
       "      <th>other_player_hand</th>\n",
       "      <th>other_player_ht</th>\n",
       "      <th>other_player_ioc</th>\n",
       "      <th>other_player_age</th>\n",
       "    </tr>\n",
       "  </thead>\n",
       "  <tbody>\n",
       "    <tr>\n",
       "      <th>1998-327014</th>\n",
       "      <td>Hard</td>\n",
       "      <td>32</td>\n",
       "      <td>A</td>\n",
       "      <td>1998-09-28</td>\n",
       "      <td>014</td>\n",
       "      <td>R32</td>\n",
       "      <td>Guillaume Raoux</td>\n",
       "      <td>R</td>\n",
       "      <td>180</td>\n",
       "      <td>FRA</td>\n",
       "      <td>28.6187542779</td>\n",
       "    </tr>\n",
       "    <tr>\n",
       "      <th>1998-327023</th>\n",
       "      <td>Hard</td>\n",
       "      <td>32</td>\n",
       "      <td>A</td>\n",
       "      <td>1998-09-28</td>\n",
       "      <td>023</td>\n",
       "      <td>R16</td>\n",
       "      <td>Richard Fromberg</td>\n",
       "      <td>R</td>\n",
       "      <td>196</td>\n",
       "      <td>AUS</td>\n",
       "      <td>28.4188911704</td>\n",
       "    </tr>\n",
       "    <tr>\n",
       "      <th>1999-328010</th>\n",
       "      <td>Carpet</td>\n",
       "      <td>32</td>\n",
       "      <td>A</td>\n",
       "      <td>1999-10-04</td>\n",
       "      <td>010</td>\n",
       "      <td>R32</td>\n",
       "      <td>Martin Damm</td>\n",
       "      <td>R</td>\n",
       "      <td>188</td>\n",
       "      <td>CZE</td>\n",
       "      <td>27.1731690623</td>\n",
       "    </tr>\n",
       "    <tr>\n",
       "      <th>1999-328021</th>\n",
       "      <td>Carpet</td>\n",
       "      <td>32</td>\n",
       "      <td>A</td>\n",
       "      <td>1999-10-04</td>\n",
       "      <td>021</td>\n",
       "      <td>R16</td>\n",
       "      <td>Alexander Popp</td>\n",
       "      <td>R</td>\n",
       "      <td>201</td>\n",
       "      <td>GER</td>\n",
       "      <td>22.9130732375</td>\n",
       "    </tr>\n",
       "    <tr>\n",
       "      <th>1999-73009</th>\n",
       "      <td>Hard</td>\n",
       "      <td>32</td>\n",
       "      <td>A</td>\n",
       "      <td>1999-09-13</td>\n",
       "      <td>009</td>\n",
       "      <td>R32</td>\n",
       "      <td>Cedric Pioline</td>\n",
       "      <td>R</td>\n",
       "      <td>188</td>\n",
       "      <td>FRA</td>\n",
       "      <td>30.2450376454</td>\n",
       "    </tr>\n",
       "  </tbody>\n",
       "</table>\n",
       "</div>"
      ],
      "text/plain": [
       "            surface draw_size tourney_level tourney_date match_num round  \\\n",
       "1998-327014    Hard        32             A   1998-09-28       014   R32   \n",
       "1998-327023    Hard        32             A   1998-09-28       023   R16   \n",
       "1999-328010  Carpet        32             A   1999-10-04       010   R32   \n",
       "1999-328021  Carpet        32             A   1999-10-04       021   R16   \n",
       "1999-73009     Hard        32             A   1999-09-13       009   R32   \n",
       "\n",
       "            other_player_name other_player_hand other_player_ht  \\\n",
       "1998-327014   Guillaume Raoux                 R             180   \n",
       "1998-327023  Richard Fromberg                 R             196   \n",
       "1999-328010       Martin Damm                 R             188   \n",
       "1999-328021    Alexander Popp                 R             201   \n",
       "1999-73009     Cedric Pioline                 R             188   \n",
       "\n",
       "            other_player_ioc other_player_age  \n",
       "1998-327014              FRA    28.6187542779  \n",
       "1998-327023              AUS    28.4188911704  \n",
       "1999-328010              CZE    27.1731690623  \n",
       "1999-328021              GER    22.9130732375  \n",
       "1999-73009               FRA    30.2450376454  "
      ]
     },
     "execution_count": 34,
     "metadata": {},
     "output_type": "execute_result"
    }
   ],
   "source": [
    "df_final_part_1.head()"
   ]
  },
  {
   "cell_type": "code",
   "execution_count": 35,
   "metadata": {},
   "outputs": [],
   "source": [
    "df_final=pd.concat([df_final_part_1,df_final_part_2,df_apt_Player[['Target']]],axis=1,sort=True)"
   ]
  },
  {
   "cell_type": "code",
   "execution_count": 36,
   "metadata": {},
   "outputs": [],
   "source": [
    "df_final['Year']=df_final['tourney_date'].dt.year\n",
    "df_final['Day']=df_final['tourney_date'].dt.day\n",
    "df_final['Month']=df_final['tourney_date'].dt.month"
   ]
  },
  {
   "cell_type": "code",
   "execution_count": 37,
   "metadata": {},
   "outputs": [],
   "source": [
    "df_final=df_final.drop('tourney_date',axis=1)"
   ]
  },
  {
   "cell_type": "code",
   "execution_count": 38,
   "metadata": {},
   "outputs": [],
   "source": [
    "df=df_final[['surface','tourney_level','other_player_name','other_player_hand','other_player_ioc','round']]\n",
    "Input_data=pd.get_dummies(df, prefix=list(df.columns))"
   ]
  },
  {
   "cell_type": "code",
   "execution_count": 39,
   "metadata": {},
   "outputs": [],
   "source": [
    "df_final=df_final.drop(['surface','tourney_level','other_player_name','other_player_hand','other_player_ioc','round'],axis=1).copy()"
   ]
  },
  {
   "cell_type": "code",
   "execution_count": 40,
   "metadata": {},
   "outputs": [],
   "source": [
    "df_final=pd.concat([df_final,Input_data],axis=1)"
   ]
  },
  {
   "cell_type": "code",
   "execution_count": 41,
   "metadata": {},
   "outputs": [],
   "source": [
    "df_final=df_final.dropna(axis=0)"
   ]
  },
  {
   "cell_type": "code",
   "execution_count": 42,
   "metadata": {},
   "outputs": [
    {
     "data": {
      "text/plain": [
       "(1310, 496)"
      ]
     },
     "execution_count": 42,
     "metadata": {},
     "output_type": "execute_result"
    }
   ],
   "source": [
    "df_final.shape"
   ]
  },
  {
   "cell_type": "code",
   "execution_count": 43,
   "metadata": {},
   "outputs": [
    {
     "data": {
      "text/html": [
       "<div>\n",
       "<style scoped>\n",
       "    .dataframe tbody tr th:only-of-type {\n",
       "        vertical-align: middle;\n",
       "    }\n",
       "\n",
       "    .dataframe tbody tr th {\n",
       "        vertical-align: top;\n",
       "    }\n",
       "\n",
       "    .dataframe thead th {\n",
       "        text-align: right;\n",
       "    }\n",
       "</style>\n",
       "<table border=\"1\" class=\"dataframe\">\n",
       "  <thead>\n",
       "    <tr style=\"text-align: right;\">\n",
       "      <th></th>\n",
       "      <th>draw_size</th>\n",
       "      <th>match_num</th>\n",
       "      <th>other_player_ht</th>\n",
       "      <th>other_player_age</th>\n",
       "      <th>targeted_player_rank1 lag</th>\n",
       "      <th>targeted_player_rank2 lag</th>\n",
       "      <th>targeted_player_rank3 lag</th>\n",
       "      <th>targeted_player_rank4 lag</th>\n",
       "      <th>t_svpt1 lag</th>\n",
       "      <th>t_svpt2 lag</th>\n",
       "      <th>...</th>\n",
       "      <th>other_player_ioc_ZIM</th>\n",
       "      <th>round_BR</th>\n",
       "      <th>round_F</th>\n",
       "      <th>round_QF</th>\n",
       "      <th>round_R128</th>\n",
       "      <th>round_R16</th>\n",
       "      <th>round_R32</th>\n",
       "      <th>round_R64</th>\n",
       "      <th>round_RR</th>\n",
       "      <th>round_SF</th>\n",
       "    </tr>\n",
       "  </thead>\n",
       "  <tbody>\n",
       "    <tr>\n",
       "      <th>1998-314002</th>\n",
       "      <td>32</td>\n",
       "      <td>002</td>\n",
       "      <td>180</td>\n",
       "      <td>23.7316906229</td>\n",
       "      <td>396</td>\n",
       "      <td>878</td>\n",
       "      <td>17</td>\n",
       "      <td>17</td>\n",
       "      <td>53</td>\n",
       "      <td>67</td>\n",
       "      <td>...</td>\n",
       "      <td>0</td>\n",
       "      <td>0</td>\n",
       "      <td>0</td>\n",
       "      <td>0</td>\n",
       "      <td>0</td>\n",
       "      <td>0</td>\n",
       "      <td>1</td>\n",
       "      <td>0</td>\n",
       "      <td>0</td>\n",
       "      <td>0</td>\n",
       "    </tr>\n",
       "    <tr>\n",
       "      <th>1998-327028</th>\n",
       "      <td>32</td>\n",
       "      <td>028</td>\n",
       "      <td>183</td>\n",
       "      <td>28.4572210815</td>\n",
       "      <td>17</td>\n",
       "      <td>17</td>\n",
       "      <td>17</td>\n",
       "      <td>17</td>\n",
       "      <td>138</td>\n",
       "      <td>143</td>\n",
       "      <td>...</td>\n",
       "      <td>0</td>\n",
       "      <td>0</td>\n",
       "      <td>0</td>\n",
       "      <td>1</td>\n",
       "      <td>0</td>\n",
       "      <td>0</td>\n",
       "      <td>0</td>\n",
       "      <td>0</td>\n",
       "      <td>0</td>\n",
       "      <td>0</td>\n",
       "    </tr>\n",
       "    <tr>\n",
       "      <th>1998-328005</th>\n",
       "      <td>32</td>\n",
       "      <td>005</td>\n",
       "      <td>180</td>\n",
       "      <td>28.4353182752</td>\n",
       "      <td>878</td>\n",
       "      <td>17</td>\n",
       "      <td>17</td>\n",
       "      <td>17</td>\n",
       "      <td>67</td>\n",
       "      <td>138</td>\n",
       "      <td>...</td>\n",
       "      <td>0</td>\n",
       "      <td>0</td>\n",
       "      <td>0</td>\n",
       "      <td>0</td>\n",
       "      <td>0</td>\n",
       "      <td>0</td>\n",
       "      <td>1</td>\n",
       "      <td>0</td>\n",
       "      <td>0</td>\n",
       "      <td>0</td>\n",
       "    </tr>\n",
       "    <tr>\n",
       "      <th>1999-311009</th>\n",
       "      <td>56</td>\n",
       "      <td>009</td>\n",
       "      <td>175</td>\n",
       "      <td>29.6673511294</td>\n",
       "      <td>103</td>\n",
       "      <td>243</td>\n",
       "      <td>93</td>\n",
       "      <td>96</td>\n",
       "      <td>160</td>\n",
       "      <td>65</td>\n",
       "      <td>...</td>\n",
       "      <td>1</td>\n",
       "      <td>0</td>\n",
       "      <td>0</td>\n",
       "      <td>0</td>\n",
       "      <td>0</td>\n",
       "      <td>0</td>\n",
       "      <td>0</td>\n",
       "      <td>1</td>\n",
       "      <td>0</td>\n",
       "      <td>0</td>\n",
       "    </tr>\n",
       "    <tr>\n",
       "      <th>1999-314006</th>\n",
       "      <td>32</td>\n",
       "      <td>006</td>\n",
       "      <td>193</td>\n",
       "      <td>27.8110882957</td>\n",
       "      <td>702</td>\n",
       "      <td>396</td>\n",
       "      <td>878</td>\n",
       "      <td>17</td>\n",
       "      <td>74</td>\n",
       "      <td>53</td>\n",
       "      <td>...</td>\n",
       "      <td>0</td>\n",
       "      <td>0</td>\n",
       "      <td>0</td>\n",
       "      <td>0</td>\n",
       "      <td>0</td>\n",
       "      <td>0</td>\n",
       "      <td>1</td>\n",
       "      <td>0</td>\n",
       "      <td>0</td>\n",
       "      <td>0</td>\n",
       "    </tr>\n",
       "  </tbody>\n",
       "</table>\n",
       "<p>5 rows × 496 columns</p>\n",
       "</div>"
      ],
      "text/plain": [
       "            draw_size match_num other_player_ht other_player_age  \\\n",
       "1998-314002        32       002             180    23.7316906229   \n",
       "1998-327028        32       028             183    28.4572210815   \n",
       "1998-328005        32       005             180    28.4353182752   \n",
       "1999-311009        56       009             175    29.6673511294   \n",
       "1999-314006        32       006             193    27.8110882957   \n",
       "\n",
       "            targeted_player_rank1 lag targeted_player_rank2 lag  \\\n",
       "1998-314002                       396                       878   \n",
       "1998-327028                        17                        17   \n",
       "1998-328005                       878                        17   \n",
       "1999-311009                       103                       243   \n",
       "1999-314006                       702                       396   \n",
       "\n",
       "            targeted_player_rank3 lag targeted_player_rank4 lag t_svpt1 lag  \\\n",
       "1998-314002                        17                        17          53   \n",
       "1998-327028                        17                        17         138   \n",
       "1998-328005                        17                        17          67   \n",
       "1999-311009                        93                        96         160   \n",
       "1999-314006                       878                        17          74   \n",
       "\n",
       "            t_svpt2 lag  ... other_player_ioc_ZIM round_BR round_F round_QF  \\\n",
       "1998-314002          67  ...                    0        0       0        0   \n",
       "1998-327028         143  ...                    0        0       0        1   \n",
       "1998-328005         138  ...                    0        0       0        0   \n",
       "1999-311009          65  ...                    1        0       0        0   \n",
       "1999-314006          53  ...                    0        0       0        0   \n",
       "\n",
       "            round_R128 round_R16 round_R32 round_R64 round_RR round_SF  \n",
       "1998-314002          0         0         1         0        0        0  \n",
       "1998-327028          0         0         0         0        0        0  \n",
       "1998-328005          0         0         1         0        0        0  \n",
       "1999-311009          0         0         0         1        0        0  \n",
       "1999-314006          0         0         1         0        0        0  \n",
       "\n",
       "[5 rows x 496 columns]"
      ]
     },
     "execution_count": 43,
     "metadata": {},
     "output_type": "execute_result"
    }
   ],
   "source": [
    "df_final.head()"
   ]
  },
  {
   "cell_type": "code",
   "execution_count": 44,
   "metadata": {
    "scrolled": false
   },
   "outputs": [],
   "source": [
    "# for col in df_final.columns: \n",
    "#     print(col)"
   ]
  },
  {
   "cell_type": "markdown",
   "metadata": {},
   "source": [
    "# Modélisation"
   ]
  },
  {
   "cell_type": "markdown",
   "metadata": {},
   "source": [
    "Préparation des données: on va utiliser la validation croisée et un partage aléatoire des données et un entrainement de données sur 33 % de l'ensemble afin d'éviter le surapprentissage des données (overfitting)."
   ]
  },
  {
   "cell_type": "code",
   "execution_count": 45,
   "metadata": {},
   "outputs": [],
   "source": [
    "X = df_final.drop('Target', axis=1)\n",
    "y = df_final['Target']"
   ]
  },
  {
   "cell_type": "code",
   "execution_count": 46,
   "metadata": {},
   "outputs": [],
   "source": [
    "from sklearn.model_selection import train_test_split\n",
    "# implementing train-test-split\n",
    "train_features, X_test, train_labels, y_test = train_test_split(X, y, test_size=0.33, random_state=66)"
   ]
  },
  {
   "cell_type": "markdown",
   "metadata": {},
   "source": [
    "Création du modéle ( l'instanciation )"
   ]
  },
  {
   "cell_type": "code",
   "execution_count": 49,
   "metadata": {},
   "outputs": [],
   "source": [
    "from sklearn.ensemble import RandomForestClassifier\n",
    "# on commence par la création de modéle de base à tuner (optimiser)\n"
   ]
  },
  {
   "cell_type": "code",
   "execution_count": 50,
   "metadata": {},
   "outputs": [],
   "source": [
    "rf = RandomForestClassifier()"
   ]
  },
  {
   "cell_type": "markdown",
   "metadata": {},
   "source": [
    "Définition des hyperparamètres (pour les utiliser dans la phase d'optimisation (parameters tunning)"
   ]
  },
  {
   "cell_type": "code",
   "execution_count": 51,
   "metadata": {},
   "outputs": [],
   "source": [
    "from sklearn.model_selection import RandomizedSearchCV\n",
    "# Number of trees in random forest\n",
    "n_estimators = [int(x) for x in np.linspace(start = 200, stop = 2000, num = 10)]\n",
    "# Number of features to consider at every split\n",
    "max_features = ['auto', 'sqrt']\n",
    "# Maximum number of levels in tree\n",
    "max_depth = [int(x) for x in np.linspace(10, 110, num = 11)]\n",
    "max_depth.append(None)\n",
    "# Minimum number of samples required to split a node\n",
    "min_samples_split = [2, 5, 10]\n",
    "# Minimum number of samples required at each leaf node\n",
    "min_samples_leaf = [1, 2, 4]\n",
    "# Method of selecting samples for training each tree\n",
    "bootstrap = [True, False]\n",
    "# Create the random grid\n",
    "random_grid = {'n_estimators': n_estimators,\n",
    "               'max_features': max_features,\n",
    "               'max_depth': max_depth,\n",
    "               'min_samples_split': min_samples_split,\n",
    "               'min_samples_leaf': min_samples_leaf,\n",
    "               'bootstrap': bootstrap}"
   ]
  },
  {
   "cell_type": "code",
   "execution_count": 52,
   "metadata": {},
   "outputs": [
    {
     "name": "stdout",
     "output_type": "stream",
     "text": [
      "Fitting 3 folds for each of 100 candidates, totalling 300 fits\n"
     ]
    },
    {
     "name": "stderr",
     "output_type": "stream",
     "text": [
      "[Parallel(n_jobs=-1)]: Using backend LokyBackend with 8 concurrent workers.\n",
      "[Parallel(n_jobs=-1)]: Done  25 tasks      | elapsed:   15.7s\n",
      "[Parallel(n_jobs=-1)]: Done 146 tasks      | elapsed:   53.7s\n",
      "[Parallel(n_jobs=-1)]: Done 300 out of 300 | elapsed:  1.8min finished\n"
     ]
    },
    {
     "data": {
      "text/plain": [
       "RandomizedSearchCV(cv=3, error_score='raise-deprecating',\n",
       "          estimator=RandomForestClassifier(bootstrap=True, class_weight=None, criterion='gini',\n",
       "            max_depth=None, max_features='auto', max_leaf_nodes=None,\n",
       "            min_impurity_decrease=0.0, min_impurity_split=None,\n",
       "            min_samples_leaf=1, min_samples_split=2,\n",
       "            min_weight_fraction_leaf=0.0, n_estimators='warn', n_jobs=None,\n",
       "            oob_score=False, random_state=None, verbose=0,\n",
       "            warm_start=False),\n",
       "          fit_params=None, iid='warn', n_iter=100, n_jobs=-1,\n",
       "          param_distributions={'n_estimators': [200, 400, 600, 800, 1000, 1200, 1400, 1600, 1800, 2000], 'max_features': ['auto', 'sqrt'], 'max_depth': [10, 20, 30, 40, 50, 60, 70, 80, 90, 100, 110, None], 'min_samples_split': [2, 5, 10], 'min_samples_leaf': [1, 2, 4], 'bootstrap': [True, False]},\n",
       "          pre_dispatch='2*n_jobs', random_state=42, refit=True,\n",
       "          return_train_score='warn', scoring=None, verbose=2)"
      ]
     },
     "execution_count": 52,
     "metadata": {},
     "output_type": "execute_result"
    }
   ],
   "source": [
    "#On va utiliser random search afin de trouver la comibinaision optimale de paramètre\n",
    "# une recherche aléatoire des paramétres, en utilisant 3 validations croisées,\n",
    "# on va parcourrir 10 combinations en utilisant toutes les variables\n",
    "rf_random = RandomizedSearchCV(estimator = rf, param_distributions = random_grid, n_iter = 100, cv = 3, verbose=2, random_state=42, n_jobs = -1)\n",
    "# Fit the random search model\n",
    "rf_random.fit(train_features, train_labels)"
   ]
  },
  {
   "cell_type": "code",
   "execution_count": 53,
   "metadata": {},
   "outputs": [],
   "source": [
    "# sauvagarder le modéle\n",
    "filename = 'tennis_model.sav'\n",
    "pickle.dump(rf_random, open(filename, 'wb'))\n",
    "\n"
   ]
  },
  {
   "cell_type": "code",
   "execution_count": 54,
   "metadata": {},
   "outputs": [],
   "source": [
    "# Prédiction en utilisant l'ensemble de test\n",
    "rfc_prediction = rf_random.predict(X_test)"
   ]
  },
  {
   "cell_type": "markdown",
   "metadata": {},
   "source": [
    "# évaluation de la qualité du modèle (métriques de performance)"
   ]
  },
  {
   "cell_type": "code",
   "execution_count": 55,
   "metadata": {},
   "outputs": [],
   "source": [
    "from sklearn.metrics import confusion_matrix\n"
   ]
  },
  {
   "cell_type": "code",
   "execution_count": 56,
   "metadata": {},
   "outputs": [
    {
     "data": {
      "text/plain": [
       "array([1, 0, 1, 1, 1, 0, 1, 0, 1, 1, 1, 0, 1, 1, 1, 1, 1, 1, 0, 1, 1, 1,\n",
       "       1, 1, 1, 1, 0, 0, 1, 0, 1, 0, 1, 1, 1, 1, 1, 1, 1, 1, 1, 1, 0, 1,\n",
       "       1, 1, 1, 1, 1, 1, 1, 0, 1, 1, 0, 1, 1, 1, 1, 0, 1, 1, 1, 1, 0, 1,\n",
       "       1, 1, 1, 1, 1, 1, 1, 1, 1, 0, 1, 1, 1, 1, 0, 0, 1, 0, 0, 1, 1, 1,\n",
       "       1, 0, 1, 1, 1, 0, 1, 1, 1, 1, 1, 1, 1, 1, 1, 1, 1, 1, 1, 1, 1, 0,\n",
       "       1, 1, 1, 1, 1, 1, 0, 1, 1, 1, 1, 1, 1, 1, 1, 1, 0, 1, 0, 1, 1, 1,\n",
       "       1, 1, 1, 1, 1, 1, 0, 0, 1, 1, 0, 1, 1, 1, 0, 1, 1, 1, 1, 0, 0, 1,\n",
       "       1, 1, 0, 1, 1, 1, 1, 0, 1, 1, 1, 1, 1, 1, 1, 0, 0, 1, 1, 1, 1, 1,\n",
       "       1, 1, 1, 0, 1, 1, 1, 1, 1, 1, 1, 0, 1, 1, 1, 1, 1, 0, 1, 1, 1, 1,\n",
       "       1, 1, 1, 1, 1, 1, 0, 1, 1, 1, 1, 1, 1, 1, 1, 1, 1, 1, 1, 1, 1, 1,\n",
       "       1, 1, 1, 1, 0, 0, 1, 1, 1, 0, 1, 1, 1, 1, 1, 0, 1, 0, 1, 1, 1, 1,\n",
       "       1, 0, 1, 1, 1, 1, 0, 1, 1, 1, 1, 1, 1, 1, 1, 1, 1, 1, 1, 1, 1, 0,\n",
       "       1, 1, 1, 1, 1, 1, 1, 1, 1, 1, 0, 0, 1, 1, 1, 1, 1, 0, 1, 0, 1, 1,\n",
       "       1, 1, 1, 1, 1, 1, 1, 1, 1, 1, 0, 1, 1, 1, 1, 1, 1, 1, 1, 0, 1, 1,\n",
       "       1, 1, 1, 1, 1, 1, 1, 1, 1, 1, 1, 1, 1, 1, 1, 1, 0, 1, 1, 1, 0, 0,\n",
       "       1, 1, 0, 0, 1, 0, 0, 1, 1, 1, 1, 1, 1, 1, 1, 1, 1, 1, 1, 1, 0, 0,\n",
       "       0, 1, 1, 1, 1, 1, 1, 1, 1, 1, 1, 0, 1, 1, 1, 1, 1, 1, 1, 1, 0, 0,\n",
       "       1, 1, 1, 0, 1, 0, 1, 1, 1, 1, 1, 1, 1, 1, 1, 1, 0, 1, 0, 1, 0, 1,\n",
       "       1, 1, 0, 1, 1, 1, 1, 1, 0, 1, 1, 1, 0, 1, 1, 0, 1, 1, 0, 1, 0, 1,\n",
       "       1, 1, 1, 1, 1, 1, 1, 1, 1, 1, 1, 1, 1, 1, 1], dtype=int64)"
      ]
     },
     "execution_count": 56,
     "metadata": {},
     "output_type": "execute_result"
    }
   ],
   "source": [
    "rfc_prediction"
   ]
  },
  {
   "cell_type": "code",
   "execution_count": 57,
   "metadata": {},
   "outputs": [],
   "source": [
    "# calcul de la matrice de confusion\n",
    "cnf_matrix = confusion_matrix(y_test, rfc_prediction)"
   ]
  },
  {
   "cell_type": "code",
   "execution_count": 62,
   "metadata": {},
   "outputs": [],
   "source": [
    "df_confusion_matrix= pd.DataFrame(cnf_matrix)"
   ]
  },
  {
   "cell_type": "code",
   "execution_count": 68,
   "metadata": {},
   "outputs": [
    {
     "name": "stdout",
     "output_type": "stream",
     "text": [
      "Normalized confusion matrix\n",
      "[[0.98717949 0.01282051]\n",
      " [0.         1.        ]]\n"
     ]
    },
    {
     "data": {
      "text/plain": [
       "<matplotlib.axes._subplots.AxesSubplot at 0x1bf05048>"
      ]
     },
     "execution_count": 68,
     "metadata": {},
     "output_type": "execute_result"
    },
    {
     "data": {
      "image/png": "[encoded data removed]",
      "text/plain": [
       "<Figure size 2880x1440 with 2 Axes>"
      ]
     },
     "metadata": {
      "needs_background": "light"
     },
     "output_type": "display_data"
    }
   ],
   "source": [
    "# Plot normalized confusion matrix\n",
    "plot_confusion_matrix(y_test, rfc_prediction, classes=['Loser','Winner'], normalize=True,\n",
    "                      title='Normalized confusion matrix')"
   ]
  },
  {
   "cell_type": "code",
   "execution_count": 69,
   "metadata": {},
   "outputs": [
    {
     "name": "stdout",
     "output_type": "stream",
     "text": [
      "0.9976905311778291\n"
     ]
    }
   ],
   "source": [
    "# calcul de la précision\n",
    "from sklearn import metrics\n",
    "print(metrics.accuracy_score(y_test, rfc_prediction))"
   ]
  }
 ],
 "metadata": {
  "kernelspec": {
   "display_name": "Python 3",
   "language": "python",
   "name": "python3"
  },
  "language_info": {
   "codemirror_mode": {
    "name": "ipython",
    "version": 3
   },
   "file_extension": ".py",
   "mimetype": "text/x-python",
   "name": "python",
   "nbconvert_exporter": "python",
   "pygments_lexer": "ipython3",
   "version": "3.7.1"
  }
 },
 "nbformat": 4,
 "nbformat_minor": 2
}
